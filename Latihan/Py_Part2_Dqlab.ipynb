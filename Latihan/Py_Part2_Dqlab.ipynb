{
 "cells": [
  {
   "cell_type": "code",
   "execution_count": 1,
   "metadata": {},
   "outputs": [
    {
     "name": "stdout",
     "output_type": "stream",
     "text": [
      "[{'tanah': '70', 'bangunan': '50', 'jarak_ke_pusat': '15', 'harga': '500'}, {'tanah': '70', 'bangunan': '60', 'jarak_ke_pusat': '30', 'harga': '400'}, {'tanah': '70', 'bangunan': '60', 'jarak_ke_pusat': '55', 'harga': '300'}, {'tanah': '100', 'bangunan': '50', 'jarak_ke_pusat': '30', 'harga': '700'}, {'tanah': '100', 'bangunan': '70', 'jarak_ke_pusat': '25', 'harga': '1000'}, {'tanah': '100', 'bangunan': '70', 'jarak_ke_pusat': '50', 'harga': '650'}, {'tanah': '120', 'bangunan': '100', 'jarak_ke_pusat': '20', 'harga': '2000'}, {'tanah': '120', 'bangunan': '80', 'jarak_ke_pusat': '50', 'harga': '1200'}, {'tanah': '150', 'bangunan': '100', 'jarak_ke_pusat': '50', 'harga': '1800'}, {'tanah': '150', 'bangunan': '90', 'jarak_ke_pusat': '15', 'harga': '3000'}]\n"
     ]
    }
   ],
   "source": [
    "from urllib import response\n",
    "from attr import attributes\n",
    "import requests\n",
    "from contextlib import closing\n",
    "import csv\n",
    "# STEP 1: \n",
    "# Baca file \"harga_rumah.txt\"\n",
    "url = \"https://storage.googleapis.com/dqlab-dataset/harga_rumah.txt\"\n",
    "response = requests.get(url)\n",
    "with closing(requests.get(url, stream=True)) as r:\n",
    "    f = (line.decode('utf-8') for line in r.iter_lines())\n",
    "    data_harga_rumah = [row for row in csv.reader(f)]\n",
    "# Buat list of dict dengan nama harga rumah\n",
    "key_harga_rumah = data_harga_rumah[0]\n",
    "harga_rumah = []\n",
    "for baris_harga_rumah in data_harga_rumah[1:]:\n",
    "\tdict_harga_rumah = dict()\n",
    "\tfor i in range(len(baris_harga_rumah)):\n",
    "\t\tdict_harga_rumah[key_harga_rumah[i]] = baris_harga_rumah[i]\n",
    "\tharga_rumah.append(dict_harga_rumah)\n",
    "print(harga_rumah)"
   ]
  }
 ],
 "metadata": {
  "interpreter": {
   "hash": "31f2aee4e71d21fbe5cf8b01ff0e069b9275f58929596ceb00d14d90e3e16cd6"
  },
  "kernelspec": {
   "display_name": "Python 3.8.10 64-bit",
   "language": "python",
   "name": "python3"
  },
  "language_info": {
   "codemirror_mode": {
    "name": "ipython",
    "version": 3
   },
   "file_extension": ".py",
   "mimetype": "text/x-python",
   "name": "python",
   "nbconvert_exporter": "python",
   "pygments_lexer": "ipython3",
   "version": "3.8.10"
  },
  "orig_nbformat": 4
 },
 "nbformat": 4,
 "nbformat_minor": 2
}
